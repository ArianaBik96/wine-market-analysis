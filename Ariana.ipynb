{
 "cells": [
  {
   "cell_type": "markdown",
   "metadata": {},
   "source": []
  },
  {
   "cell_type": "markdown",
   "metadata": {},
   "source": []
  },
  {
   "cell_type": "code",
   "execution_count": 47,
   "metadata": {},
   "outputs": [],
   "source": [
    "import sqlite3\n",
    "import pandas as pd\n",
    "  \n",
    "# Connect to SQLite database\n",
    "conn = sqlite3.connect(r'./data/vivino.db')\n",
    "# Create a cursor object\n",
    "cursor = conn.cursor()"
   ]
  },
  {
   "cell_type": "code",
   "execution_count": 48,
   "metadata": {},
   "outputs": [
    {
     "name": "stdout",
     "output_type": "stream",
     "text": [
      "Country              Natural Wines        Non-Natural Wines    Natural Acidic       Natural Sweet        Natural Tannic       Non-Natural Acidic   Non-Natural Sweet    Non-Natural Tannic  \n",
      "Italie               18                   365                  12                   1                    2                    201                  67                   62                  \n",
      "France               13                   318                  10                   0                    0                    121                  0                    53                  \n",
      "Espagne              2                    92                   2                    0                    0                    39                   0                    34                  \n",
      "États-Unis           0                    74                   0                    0                    0                    41                   0                    26                  \n",
      "Portugal             0                    28                   0                    0                    0                    1                    0                    10                  \n",
      "Argentine            0                    23                   0                    0                    0                    13                   0                    10                  \n",
      "Afrique du Sud       0                    22                   0                    0                    0                    14                   0                    4                   \n",
      "Chili                0                    16                   0                    0                    0                    0                    0                    11                  \n",
      "Allemagne            0                    14                   0                    0                    0                    1                    0                    0                   \n",
      "Australie            0                    12                   0                    0                    0                    1                    0                    10                  \n",
      "Hongrie              0                    11                   0                    0                    0                    0                    0                    0                   \n",
      "Moldavie             0                    5                    0                    0                    0                    0                    0                    0                   \n",
      "Suisse               0                    2                    0                    0                    0                    1                    0                    0                   \n",
      "Grèce                0                    2                    0                    0                    0                    1                    0                    0                   \n",
      "Roumanie             0                    1                    0                    0                    0                    0                    0                    1                   \n",
      "Israël               0                    1                    0                    0                    0                    0                    0                    1                   \n",
      "Croatie              0                    1                    0                    0                    0                    1                    0                    0                   \n"
     ]
    }
   ],
   "source": [
    "query1 = \"\"\"SELECT\n",
    "    country_name,\n",
    "    natural_wines_count,\n",
    "    non_natural_wines_count,\n",
    "    natural_acidic_wines_count,\n",
    "    natural_sweet_wines_count,\n",
    "    natural_tannic_wines_count,\n",
    "    non_natural_acidic_wines_count,\n",
    "    non_natural_sweet_wines_count,\n",
    "    non_natural_tannic_wines_count\n",
    "FROM (\n",
    "    SELECT\n",
    "        c.name AS country_name,\n",
    "        SUM(CASE WHEN w.is_natural = 1 THEN 1 ELSE 0 END) AS natural_wines_count,\n",
    "        SUM(CASE WHEN w.is_natural = 0 THEN 1 ELSE 0 END) AS non_natural_wines_count,\n",
    "        SUM(CASE WHEN w.is_natural = 1 AND w.acidity > w.sweetness AND w.acidity > w.tannin THEN 1 ELSE 0 END) AS natural_acidic_wines_count,\n",
    "        SUM(CASE WHEN w.is_natural = 1 AND w.sweetness > w.acidity AND w.sweetness > w.tannin THEN 1 ELSE 0 END) AS natural_sweet_wines_count,\n",
    "        SUM(CASE WHEN w.is_natural = 1 AND w.tannin > w.acidity AND w.tannin > w.sweetness THEN 1 ELSE 0 END) AS natural_tannic_wines_count,\n",
    "        SUM(CASE WHEN w.is_natural = 0 AND w.acidity > w.sweetness AND w.acidity > w.tannin THEN 1 ELSE 0 END) AS non_natural_acidic_wines_count,\n",
    "        SUM(CASE WHEN w.is_natural = 0 AND w.sweetness > w.acidity AND w.sweetness > w.tannin THEN 1 ELSE 0 END) AS non_natural_sweet_wines_count,\n",
    "        SUM(CASE WHEN w.is_natural = 0 AND w.tannin > w.acidity AND w.tannin > w.sweetness THEN 1 ELSE 0 END) AS non_natural_tannic_wines_count\n",
    "    FROM\n",
    "        countries c\n",
    "    LEFT JOIN\n",
    "        regions r ON c.code = r.country_code\n",
    "    LEFT JOIN\n",
    "        wines w ON r.id = w.region_id\n",
    "    GROUP BY\n",
    "        c.name\n",
    "    ORDER BY non_natural_wines_count DESC\n",
    ") AS subquery;\"\"\"\n",
    "\n",
    "cursor.execute(query1)\n",
    "results = cursor.fetchall()\n",
    "\n",
    "# Print column headers\n",
    "print(\"{:<20} {:<20} {:<20} {:<20} {:<20} {:<20} {:<20} {:<20} {:<20}\".format(\n",
    "    \"Country\", \"Natural Wines\", \"Non-Natural Wines\",\n",
    "    \"Natural Acidic\", \"Natural Sweet\", \"Natural Tannic\",\n",
    "    \"Non-Natural Acidic\", \"Non-Natural Sweet\", \"Non-Natural Tannic\"\n",
    "))\n",
    "\n",
    "# Print each row\n",
    "for row in results:\n",
    "    country_name, natural_wines_count, non_natural_wines_count, \\\n",
    "    natural_acidic_wines_count, natural_sweet_wines_count, natural_tannic_wines_count, \\\n",
    "    non_natural_acidic_wines_count, non_natural_sweet_wines_count, non_natural_tannic_wines_count = row\n",
    "    print(\"{:<20} {:<20} {:<20} {:<20} {:<20} {:<20} {:<20} {:<20} {:<20}\".format(\n",
    "        country_name, natural_wines_count, non_natural_wines_count,\n",
    "        natural_acidic_wines_count, natural_sweet_wines_count, natural_tannic_wines_count,\n",
    "        non_natural_acidic_wines_count, non_natural_sweet_wines_count, non_natural_tannic_wines_count\n",
    "    ))"
   ]
  },
  {
   "cell_type": "code",
   "execution_count": 59,
   "metadata": {},
   "outputs": [
    {
     "name": "stdout",
     "output_type": "stream",
     "text": [
      "[('Mágico',), ('Unico',), ('Special Selection Cabernet Sauvignon',), ('Grange',), ('Unico Reserva Especial Edición',)]\n"
     ]
    }
   ],
   "source": [
    "query2 = \"\"\"\n",
    "    SELECT wines.name\n",
    "    FROM wines\n",
    "    JOIN regions ON wines.region_id = regions.id\n",
    "    JOIN countries ON regions.country_code = countries.code\n",
    "    JOIN most_used_grapes_per_country ON countries.code = most_used_grapes_per_country.country_code\n",
    "    JOIN grapes ON most_used_grapes_per_country.grape_id = grapes.id\n",
    "    WHERE grapes.name = 'Cabernet Sauvignon'\n",
    "    GROUP BY wines.name\n",
    "    ORDER BY \n",
    "        ((wines.ratings_average * wines.ratings_count) + \n",
    "        ((\n",
    "            SELECT SUM(wines.ratings_average) \n",
    "            FROM wines\n",
    "        ) / (\n",
    "            SELECT COUNT(DISTINCT id) \n",
    "            FROM wines\n",
    "        ))\n",
    "    ) / (wines.ratings_count + 1) DESC\n",
    "    LIMIT 5;\n",
    "\"\"\"\n",
    "query3 = \"\"\"\n",
    "    SELECT wines.name, ((wines.ratings_average * wines.ratings_count) + (SUM(wines.ratings_average) / COUNT( DISTINCT wines.id))) / (wines.ratings_count + 1) AS weighted_rating\n",
    "    FROM wines\n",
    "    \"\"\"\n",
    "cursor.execute(query2)\n",
    "results = cursor.fetchall()\n",
    "print(results)"
   ]
  },
  {
   "cell_type": "code",
   "execution_count": null,
   "metadata": {},
   "outputs": [],
   "source": []
  }
 ],
 "metadata": {
  "kernelspec": {
   "display_name": "Python 3",
   "language": "python",
   "name": "python3"
  },
  "language_info": {
   "codemirror_mode": {
    "name": "ipython",
    "version": 3
   },
   "file_extension": ".py",
   "mimetype": "text/x-python",
   "name": "python",
   "nbconvert_exporter": "python",
   "pygments_lexer": "ipython3",
   "version": "3.12.3"
  }
 },
 "nbformat": 4,
 "nbformat_minor": 2
}
